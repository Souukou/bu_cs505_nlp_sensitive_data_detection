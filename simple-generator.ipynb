{
 "cells": [
  {
   "cell_type": "code",
   "execution_count": 2,
   "metadata": {},
   "outputs": [
    {
     "data": {
      "text/plain": [
       "('dataset_v4.csv',\n",
       "                                    Code  Label\n",
       " 0                      passwd = '80655'      1\n",
       " 1  ftp_url = 'ftp://192.168.113.1/1189'      1\n",
       " 2  ftp_url = 'ftp://192.168.157.1/9293'      1\n",
       " 3       db_address = 'db23.example.com'      1\n",
       " 4                             if x > 1:      0)"
      ]
     },
     "execution_count": 2,
     "metadata": {},
     "output_type": "execute_result"
    }
   ],
   "source": [
    "import random\n",
    "import pandas as pd\n",
    "\n",
    "def generate_code_line_v4():\n",
    "    code_types = [\n",
    "        # More subtle variations of leaked sensitive information types\n",
    "        lambda: f\"pwd = '{random.randint(1000, 9999)}'\",\n",
    "        lambda: f\"passwd = '{random.randint(10000, 99999)}'\",\n",
    "        lambda: f\"userpass = 'pass{random.randint(1000, 9999)}'\",\n",
    "        lambda: f\"auth_token = '{random.randint(100000, 999999)}-auth'\",\n",
    "        lambda: f\"db_address = 'db{random.randint(1, 255)}.example.com'\",\n",
    "        lambda: f\"secret = 's{random.randint(1000, 9999)}'\",\n",
    "        lambda: f\"ftp_url = 'ftp://192.168.{random.randint(1, 255)}.1/{random.randint(1000, 9999)}'\",\n",
    "        lambda: f\"crypt_key = 'key-{random.randint(1000, 9999)}'\",\n",
    "        lambda: f\"access_code = 'code{random.randint(1000, 9999)}'\",\n",
    "\n",
    "        # Extended list of explicit sensitive information types\n",
    "        lambda: f\"password = '{random.randint(1000, 9999)}'\",\n",
    "        lambda: f\"token = '{random.randint(10000, 99999)}-xyz'\",\n",
    "        lambda: f\"api_key = 'KEY-{random.randint(1000, 9999)}'\",\n",
    "        lambda: f\"email = 'user{random.randint(1, 100)}@example.com'\",\n",
    "        lambda: f\"aws_access_key_id = 'AKIA{random.randint(100000000, 999999999)}'\",\n",
    "        lambda: f\"oauth_access_token = '1a2bc3defgh{random.randint(100000, 999999)}'\",\n",
    "\n",
    "        # Regular Python code types\n",
    "        lambda: f\"for i in range({random.randint(1, 20)}):\",\n",
    "        lambda: \"print('Hello, World!')\",\n",
    "        lambda: \"def my_function():\",\n",
    "        lambda: f\"if x > {random.randint(1, 10)}:\",\n",
    "        lambda: \"x = y + z\",\n",
    "        lambda: \"return x\",\n",
    "        lambda: f\"user = 'user{random.randint(1, 100)}'\"\n",
    "    ]\n",
    "    code_type = random.choice(code_types)\n",
    "    return code_type()\n",
    "\n",
    "# Regenerating the dataset with the expanded code generation function\n",
    "dataset_v4 = []\n",
    "sensitive_keywords = [\"pwd\", \"passwd\", \"userpass\", \"auth_token\", \"db_address\", \"secret\", \"ftp_url\", \"crypt_key\", \"access_code\", \"password\", \"token\", \"api_key\", \"email\", \"aws_access_key_id\", \"oauth_access_token\"]\n",
    "\n",
    "for _ in range(10000):\n",
    "    code_line = generate_code_line_v4()\n",
    "    label = 1 if any(keyword in code_line for keyword in sensitive_keywords) else 0\n",
    "    dataset_v4.append((code_line, label))\n",
    "\n",
    "# Creating the DataFrame\n",
    "df_large_v4 = pd.DataFrame(dataset_v4, columns=['Code', 'Label'])\n",
    "\n",
    "# Saving to CSV\n",
    "csv_file_path_v4 = 'dataset_v4.csv'\n",
    "df_large_v4.to_csv(csv_file_path_v4, index=False)\n",
    "\n",
    "csv_file_path_v4, df_large_v4.head()"
   ]
  }
 ],
 "metadata": {
  "kernelspec": {
   "display_name": "cs505",
   "language": "python",
   "name": "python3"
  },
  "language_info": {
   "codemirror_mode": {
    "name": "ipython",
    "version": 3
   },
   "file_extension": ".py",
   "mimetype": "text/x-python",
   "name": "python",
   "nbconvert_exporter": "python",
   "pygments_lexer": "ipython3",
   "version": "3.11.5"
  }
 },
 "nbformat": 4,
 "nbformat_minor": 2
}
